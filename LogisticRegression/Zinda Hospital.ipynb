{
 "cells": [
  {
   "cell_type": "markdown",
   "metadata": {},
   "source": [
    "<center>\n",
    "<h1> Zinda Hospital - Prediction using Logistic Regression\n",
    "</center>\n",
    "\n",
    "###### One of the leading hospitals would like to improve customer experience at Zinda Hospital and predict Positive, Negative or Passive score from customer surveys conducted by the hospital.\n",
    "\n",
    "###### 1. Perform Binary Classification and display the results\n",
    "###### 2. Perform Multinomial Classification and display the results\n",
    "\n",
    "###### Author -  Anuj Chauhan"
   ]
  },
  {
   "cell_type": "code",
   "execution_count": 1,
   "metadata": {},
   "outputs": [
    {
     "name": "stdout",
     "output_type": "stream",
     "text": [
      "(5353, 52)\n"
     ]
    }
   ],
   "source": [
    "import pandas as pd\n",
    "import numpy as np\n",
    "import matplotlib.pyplot as plt\n",
    "import seaborn as sns\n",
    "sns.set()\n",
    "%matplotlib inline\n",
    "\n",
    "mhexcel = pd.ExcelFile('Zinda Hospital.xlsx')\n",
    "\n",
    "mhtraindf = mhexcel.parse(sheet_name='Training Data')\n",
    "mhtestdf = mhexcel.parse(sheet_name='Test Data')\n",
    "mhmergeddf = pd.concat([mhtraindf,mhtestdf])\n",
    "\n",
    "print(mhmergeddf.shape)\n"
   ]
  },
  {
   "cell_type": "markdown",
   "metadata": {},
   "source": [
    "## Converting this problem into a binary classification problem"
   ]
  },
  {
   "cell_type": "code",
   "execution_count": 51,
   "metadata": {},
   "outputs": [
    {
     "data": {
      "text/plain": [
       "0    3343\n",
       "1    2010\n",
       "Name: NPS_Status_Combined, dtype: int64"
      ]
     },
     "execution_count": 51,
     "metadata": {},
     "output_type": "execute_result"
    }
   ],
   "source": [
    "mhmergeddf['NPS_Status_Combined'] = np.where((mhmergeddf['NPS_Status']=='Passive') | (mhmergeddf['NPS_Status']=='Detractor'),1,0)\n",
    "\n",
    "mhmergeddf.NPS_Status_Combined.value_counts()"
   ]
  },
  {
   "cell_type": "markdown",
   "metadata": {},
   "source": [
    "## One Hot Encoding of dependent variables and Train-Test split"
   ]
  },
  {
   "cell_type": "code",
   "execution_count": 52,
   "metadata": {},
   "outputs": [],
   "source": [
    "X_features = mhmergeddf[mhmergeddf.columns.difference(['SN','NPS_Status','NPS_Status_Combined','AdmissionDate','DischargeDate','CE_NPS'])]\n",
    "\n",
    "encoded_X_features = pd.get_dummies(mhmergeddf[X_features.columns],drop_first=True)\n",
    "\n",
    "from sklearn.model_selection import train_test_split\n",
    "X_train, X_test, y_train, y_test = train_test_split(encoded_X_features,mhmergeddf.NPS_Status_Combined,test_size=0.3,random_state=42)"
   ]
  },
  {
   "cell_type": "markdown",
   "metadata": {},
   "source": [
    "## Random Forest Feature Selection"
   ]
  },
  {
   "cell_type": "code",
   "execution_count": 54,
   "metadata": {},
   "outputs": [
    {
     "name": "stdout",
     "output_type": "stream",
     "text": [
      " 1) HospitalNo2                    0.072347\n",
      " 2) AgeYrs                         0.061961\n",
      " 3) CE_CSAT                        0.051667\n",
      " 4) Estimatedcost                  0.051126\n",
      " 5) CE_VALUEFORMONEY               0.049178\n",
      " 6) LengthofStay                   0.043586\n",
      " 7) AE_ATTENDEEFOOD                0.028219\n",
      " 8) CE_ACCESSIBILITY               0.027221\n",
      " 9) DP_DISCHARGEPROCESS            0.023756\n",
      "10) DP_DISCHARGETIME               0.022733\n",
      "11) AD_TARRIFFPACKAGESEXPLAINATION 0.022555\n",
      "12) FNB_FOODQUALITY                0.020205\n",
      "13) FNB_FOODDELIVERYTIME           0.019451\n",
      "14) FNB_DIETICIAN                  0.017923\n",
      "15) AD_TIME                        0.017724\n",
      "16) DP_DISCHARGEQUERIES            0.017156\n",
      "17) INR_ROOMPEACE                  0.017116\n",
      "18) INR_ROOMAMBIENCE               0.016516\n",
      "19) BedCategory_GENERAL            0.015913\n",
      "20) Sex_M                          0.015148\n",
      "21) AE_PATIENTSTATUSINFO           0.014954\n",
      "22) DOC_VISITS                     0.014304\n",
      "23) INR_ROOMCLEANLINESS            0.014162\n",
      "24) INR_ROOMEQUIPMENT              0.013230\n",
      "25) AD_STAFFATTITUDE               0.013140\n",
      "26) BedCategory_SEMISPECIAL        0.012877\n",
      "27) AE_ATTENDEECARE                0.012855\n",
      "28) InsPayorcategory_PATIENT       0.012423\n",
      "29) InsPayorcategory_INSURANCE     0.012307\n",
      "30) Department_GEN                 0.011991\n",
      "31) FNB_STAFFATTITUDE              0.011950\n",
      "32) EM_OVERALL                     0.011071\n",
      "33) OVS_SECURITYATTITUDE           0.010721\n",
      "34) NS_CALLBELLRESPONSE            0.010425\n",
      "35) OVS_OVERALLSTAFFPROMPTNESS     0.009977\n",
      "36) BedCategory_SPECIAL            0.009976\n",
      "37) NS_NURSEPROACTIVENESS          0.009787\n",
      "38) EM_IMMEDIATEATTENTION          0.009616\n",
      "39) Department_SPECIAL             0.009100\n",
      "40) EM_NURSING                     0.008929\n",
      "41) DOC_TREATMENTEFFECTIVENESS     0.008923\n",
      "42) MaritalStatus_Single           0.008787\n",
      "43) DOC_ATTITUDE                   0.008621\n",
      "44) DOC_TREATMENTEXPLAINATION      0.008615\n",
      "45) MaritalStatus_Married          0.008546\n",
      "46) State_Karnataka                0.007651\n",
      "47) NS_NURSESATTITUDE              0.007591\n",
      "48) NS_NURSEPATIENCE               0.007536\n",
      "49) Department_PEDIATRIC           0.006898\n",
      "50) OVS_OVERALLSTAFFATTITUDE       0.006825\n",
      "51) InsPayorcategory_EXEMPTION     0.006409\n",
      "52) EM_DOCTOR                      0.006338\n",
      "53) Department_ORTHO               0.005746\n",
      "54) Department_GYNAEC              0.005209\n",
      "55) STATEZONE_SOUTH                0.004959\n",
      "56) BedCategory_ULTRA SPL          0.004803\n",
      "57) STATEZONE_EAST                 0.003973\n",
      "58) Department_RENAL               0.003725\n",
      "59) State_West Bengal              0.003518\n",
      "60) State_Andhra Pradesh           0.003498\n",
      "61) State_Tamil Nadu               0.003262\n",
      "62) BedCategory_GENERAL HD         0.003071\n",
      "63) BedCategory_DAYCARE            0.002406\n",
      "64) BedCategory_ULTRA DLX          0.001636\n",
      "65) STATEZONE_Unknown              0.001570\n",
      "66) State_Unknown                  0.001366\n",
      "67) State_Kerala                   0.001106\n",
      "68) InsPayorcategory_INTERNATIONAL 0.001069\n",
      "69) Country_INDIA                  0.001042\n",
      "70) State_Orissa                   0.001001\n",
      "71) STATEZONE_INTERNATIONAL        0.000904\n",
      "72) STATEZONE_NORTH                0.000868\n",
      "73) STATEZONE_WEST                 0.000703\n",
      "74) BedCategory_SEMISPECIAL HD     0.000664\n",
      "75) State_Uttar Pradesh            0.000460\n",
      "76) State_Maharashtra              0.000376\n",
      "77) State_Jharkhand                0.000363\n",
      "78) State_Bihar                    0.000331\n",
      "79) State_Assam                    0.000301\n",
      "80) State_Punjab                   0.000294\n",
      "81) State_Delhi                    0.000276\n",
      "82) State_Tanzania                 0.000252\n",
      "83) Country_UNITED REPUBLIC OF TANZANIA 0.000244\n",
      "84) State_Rajasthan                0.000207\n",
      "85) State_Mauritius                0.000187\n",
      "86) Country_OMAN                   0.000187\n",
      "87) State_Oman                     0.000184\n",
      "88) Country_MAURITIUS              0.000169\n",
      "89) State_Manipur                  0.000162\n",
      "90) State_Goa                      0.000133\n",
      "91) Country_SUDAN                  0.000127\n",
      "92) State_Madhya Pradesh           0.000124\n",
      "93) MaritalStatus_Widowed          0.000118\n",
      "94) Country_YEMEN                  0.000108\n",
      "95) MaritalStatus_Separated        0.000104\n",
      "96) State_Uttarakhand              0.000086\n",
      "97) Country_MALDIVES               0.000079\n",
      "98) Country_IRAQ                   0.000078\n",
      "99) State_RWANDA                   0.000058\n",
      "100) State_Gujarat                  0.000054\n",
      "101) State_Iraq                     0.000053\n",
      "102) State_International            0.000053\n",
      "103) Country_MOZAMBIQUE             0.000046\n",
      "104) Country_Africa                 0.000045\n",
      "105) State_Maldives                 0.000043\n",
      "106) Country_BANGLADESH             0.000041\n",
      "107) State_Chhattisgarh             0.000040\n",
      "108) State_Bangladesh               0.000039\n",
      "109) State_Kenya                    0.000036\n",
      "110) State_Tripura                  0.000035\n",
      "111) State_Meghalaya                0.000034\n",
      "112) State_Kolkatta                 0.000034\n",
      "113) Country_ZIMBABWE               0.000027\n",
      "114) State_Bhubaneshwar             0.000023\n",
      "115) BedCategory_Renal ICU          0.000021\n",
      "116) Country_KENYA                  0.000021\n",
      "117) State_Ontario                  0.000020\n",
      "118) State_Zimbabwe                 0.000019\n",
      "119) Country_NIGERIA                0.000018\n",
      "120) State_Mumbai                   0.000018\n",
      "121) State_Saudi Arabia             0.000015\n",
      "122) State_Doha                     0.000013\n",
      "123) State_Muscat                   0.000012\n",
      "124) Country_SAUDI ARABIA           0.000011\n",
      "125) State_Nigeria                  0.000011\n",
      "126) Country_FIJI                   0.000010\n",
      "127) Country_CANADA                 0.000009\n",
      "128) State_Sikkim                   0.000008\n",
      "129) Country_UGANDA                 0.000006\n",
      "130) State_New Zealand              0.000005\n",
      "131) State_UAE                      0.000005\n",
      "132) Country_UNITED KINGDOM         0.000005\n",
      "133) State_Germany                  0.000005\n",
      "134) State_UK                       0.000003\n",
      "135) Country_UNITED ARAB EMIRATES   0.000003\n",
      "136) State_Kolkata                  0.000002\n",
      "137) State_Mongolia                 0.000002\n",
      "138) State_Andaman And Nicobar      0.000001\n",
      "139) State_Jharkand                 0.000001\n",
      "140) Country_NEPAL                  0.000001\n",
      "141) Country_ISLAMIC REPUBLIC OF IRAN 0.000001\n",
      "142) Country_QATAR                  0.000001\n",
      "143) Country_GERMANY                0.000001\n",
      "144) State_Mizoram                  0.000000\n",
      "145) State_Haryana                  0.000000\n",
      "146) State_USA                      0.000000\n",
      "147) State_Nepal                    0.000000\n",
      "148) BedCategory_ITU                0.000000\n",
      "149) Country_Saudi Arabia           0.000000\n",
      "150) State_Darjeeling               0.000000\n",
      "151) State_Chandigarh               0.000000\n",
      "152) Country_UNITED STATES OF AMERICA 0.000000\n",
      "153) Country_NEW ZEALAND            0.000000\n",
      "154) State_Ranchi                   0.000000\n",
      "155) Country_MONGOLIA               0.000000\n"
     ]
    }
   ],
   "source": [
    "from sklearn.ensemble import RandomForestClassifier\n",
    "\n",
    "from sklearn.feature_selection import SelectFromModel\n",
    "\n",
    "forest = RandomForestClassifier(n_estimators=250,random_state=1)\n",
    "\n",
    "feat_labels = X_train.columns\n",
    "\n",
    "forest.fit(X_train,y_train)\n",
    "\n",
    "importances = forest.feature_importances_\n",
    "\n",
    "indices = np.argsort(importances)[::-1]\n",
    "\n",
    "for f in range(encoded_X_features.shape[1]):\n",
    "    print(\"%2d) %-*s %f\" % (f+1,30,feat_labels[indices[f]],importances[indices[f]]))"
   ]
  },
  {
   "cell_type": "markdown",
   "metadata": {},
   "source": [
    "# Selecting features based on user specified threshold"
   ]
  },
  {
   "cell_type": "code",
   "execution_count": 55,
   "metadata": {},
   "outputs": [
    {
     "name": "stdout",
     "output_type": "stream",
     "text": [
      "Number of features that meet this threshold criterion:  30\n",
      " 1) HospitalNo2                    0.072347\n",
      " 2) AgeYrs                         0.061961\n",
      " 3) CE_CSAT                        0.051667\n",
      " 4) Estimatedcost                  0.051126\n",
      " 5) CE_VALUEFORMONEY               0.049178\n",
      " 6) LengthofStay                   0.043586\n",
      " 7) AE_ATTENDEEFOOD                0.028219\n",
      " 8) CE_ACCESSIBILITY               0.027221\n",
      " 9) DP_DISCHARGEPROCESS            0.023756\n",
      "10) DP_DISCHARGETIME               0.022733\n",
      "11) AD_TARRIFFPACKAGESEXPLAINATION 0.022555\n",
      "12) FNB_FOODQUALITY                0.020205\n",
      "13) FNB_FOODDELIVERYTIME           0.019451\n",
      "14) FNB_DIETICIAN                  0.017923\n",
      "15) AD_TIME                        0.017724\n",
      "16) DP_DISCHARGEQUERIES            0.017156\n",
      "17) INR_ROOMPEACE                  0.017116\n",
      "18) INR_ROOMAMBIENCE               0.016516\n",
      "19) BedCategory_GENERAL            0.015913\n",
      "20) Sex_M                          0.015148\n",
      "21) AE_PATIENTSTATUSINFO           0.014954\n",
      "22) DOC_VISITS                     0.014304\n",
      "23) INR_ROOMCLEANLINESS            0.014162\n",
      "24) INR_ROOMEQUIPMENT              0.013230\n",
      "25) AD_STAFFATTITUDE               0.013140\n",
      "26) BedCategory_SEMISPECIAL        0.012877\n",
      "27) AE_ATTENDEECARE                0.012855\n",
      "28) InsPayorcategory_PATIENT       0.012423\n",
      "29) InsPayorcategory_INSURANCE     0.012307\n",
      "30) Department_GEN                 0.011991\n"
     ]
    },
    {
     "data": {
      "text/plain": [
       "['HospitalNo2',\n",
       " 'AgeYrs',\n",
       " 'CE_CSAT',\n",
       " 'Estimatedcost',\n",
       " 'CE_VALUEFORMONEY',\n",
       " 'LengthofStay',\n",
       " 'AE_ATTENDEEFOOD',\n",
       " 'CE_ACCESSIBILITY',\n",
       " 'DP_DISCHARGEPROCESS',\n",
       " 'DP_DISCHARGETIME',\n",
       " 'AD_TARRIFFPACKAGESEXPLAINATION',\n",
       " 'FNB_FOODQUALITY',\n",
       " 'FNB_FOODDELIVERYTIME',\n",
       " 'FNB_DIETICIAN',\n",
       " 'AD_TIME',\n",
       " 'DP_DISCHARGEQUERIES',\n",
       " 'INR_ROOMPEACE',\n",
       " 'INR_ROOMAMBIENCE',\n",
       " 'BedCategory_GENERAL',\n",
       " 'Sex_M',\n",
       " 'AE_PATIENTSTATUSINFO',\n",
       " 'DOC_VISITS',\n",
       " 'INR_ROOMCLEANLINESS',\n",
       " 'INR_ROOMEQUIPMENT',\n",
       " 'AD_STAFFATTITUDE',\n",
       " 'BedCategory_SEMISPECIAL',\n",
       " 'AE_ATTENDEECARE',\n",
       " 'InsPayorcategory_PATIENT',\n",
       " 'InsPayorcategory_INSURANCE',\n",
       " 'Department_GEN']"
      ]
     },
     "execution_count": 55,
     "metadata": {},
     "output_type": "execute_result"
    }
   ],
   "source": [
    "from sklearn.feature_selection import SelectFromModel\n",
    "\n",
    "sfm = SelectFromModel(forest,threshold=0.011991, prefit=True)\n",
    "\n",
    "X_selected_features = sfm.transform(X_train)\n",
    "\n",
    "print('Number of features that meet this threshold criterion: ',X_selected_features.shape[1])\n",
    "X_selected_feature_columns = []\n",
    "for f in range(X_selected_features.shape[1]):\n",
    "    print(\"%2d) %-*s %f\" % (f+1,30,feat_labels[indices[f]],importances[indices[f]]))\n",
    "    X_selected_feature_columns.append(feat_labels[indices[f]])\n",
    "\n",
    "X_selected_feature_columns  "
   ]
  },
  {
   "cell_type": "markdown",
   "metadata": {},
   "source": [
    "selected_encoded_features = X_train[X_selected_feature_columns]\n",
    "from sklearn.preprocessing import StandardScaler\n",
    "sc = StandardScaler()\n",
    "sc.fit(selected_encoded_features)\n",
    "#sc1 = StandardScaler()\n",
    "#sc1.fit(encoded_mhtestdf)\n",
    "X_selected_features_train_std = sc.transform(selected_encoded_features)\n",
    "#X_features_test_std = sc1.transform(encoded_mhtestdf)\n",
    "\n",
    "#from sklearn.linear_model import LogisticRegression\n",
    "\n",
    "#lr = LogisticRegression(C=100.0,random_state=1)\n",
    "#lr_model = lr.fit(X_features_train_std,y_train)\n",
    "#print(lr_model.summary2())\n",
    "#print(lr_model.scor)"
   ]
  },
  {
   "cell_type": "markdown",
   "metadata": {},
   "source": [
    "## Binary Logistic Regression "
   ]
  },
  {
   "cell_type": "code",
   "execution_count": 56,
   "metadata": {},
   "outputs": [
    {
     "name": "stdout",
     "output_type": "stream",
     "text": [
      "Optimization terminated successfully.\n",
      "         Current function value: 0.529087\n",
      "         Iterations 6\n"
     ]
    },
    {
     "name": "stderr",
     "output_type": "stream",
     "text": [
      "/Applications/anaconda3/lib/python3.7/site-packages/numpy/core/fromnumeric.py:2389: FutureWarning: Method .ptp is deprecated and will be removed in a future version. Use numpy.ptp instead.\n",
      "  return ptp(axis=axis, out=out, **kwargs)\n"
     ]
    },
    {
     "data": {
      "text/html": [
       "<table class=\"simpletable\">\n",
       "<caption>Logit Regression Results</caption>\n",
       "<tr>\n",
       "  <th>Dep. Variable:</th>   <td>NPS_Status_Combined</td> <th>  No. Observations:  </th>   <td>  3747</td>  \n",
       "</tr>\n",
       "<tr>\n",
       "  <th>Model:</th>                  <td>Logit</td>        <th>  Df Residuals:      </th>   <td>  3716</td>  \n",
       "</tr>\n",
       "<tr>\n",
       "  <th>Method:</th>                  <td>MLE</td>         <th>  Df Model:          </th>   <td>    30</td>  \n",
       "</tr>\n",
       "<tr>\n",
       "  <th>Date:</th>             <td>Mon, 07 Oct 2019</td>   <th>  Pseudo R-squ.:     </th>   <td>0.2051</td>  \n",
       "</tr>\n",
       "<tr>\n",
       "  <th>Time:</th>                 <td>18:28:11</td>       <th>  Log-Likelihood:    </th>  <td> -1982.5</td> \n",
       "</tr>\n",
       "<tr>\n",
       "  <th>converged:</th>              <td>True</td>         <th>  LL-Null:           </th>  <td> -2494.1</td> \n",
       "</tr>\n",
       "<tr>\n",
       "  <th>Covariance Type:</th>      <td>nonrobust</td>      <th>  LLR p-value:       </th> <td>6.368e-196</td>\n",
       "</tr>\n",
       "</table>\n",
       "<table class=\"simpletable\">\n",
       "<tr>\n",
       "                 <td></td>                   <th>coef</th>     <th>std err</th>      <th>z</th>      <th>P>|z|</th>  <th>[0.025</th>    <th>0.975]</th>  \n",
       "</tr>\n",
       "<tr>\n",
       "  <th>const</th>                          <td>    8.3609</td> <td>    0.426</td> <td>   19.638</td> <td> 0.000</td> <td>    7.526</td> <td>    9.195</td>\n",
       "</tr>\n",
       "<tr>\n",
       "  <th>HospitalNo2</th>                    <td>-1.662e-06</td> <td> 1.36e-06</td> <td>   -1.223</td> <td> 0.221</td> <td>-4.32e-06</td> <td>    1e-06</td>\n",
       "</tr>\n",
       "<tr>\n",
       "  <th>AgeYrs</th>                         <td>   -0.0041</td> <td>    0.002</td> <td>   -2.271</td> <td> 0.023</td> <td>   -0.008</td> <td>   -0.001</td>\n",
       "</tr>\n",
       "<tr>\n",
       "  <th>CE_CSAT</th>                        <td>   -0.7221</td> <td>    0.096</td> <td>   -7.523</td> <td> 0.000</td> <td>   -0.910</td> <td>   -0.534</td>\n",
       "</tr>\n",
       "<tr>\n",
       "  <th>Estimatedcost</th>                  <td> 3.496e-07</td> <td>  4.2e-07</td> <td>    0.833</td> <td> 0.405</td> <td>-4.73e-07</td> <td> 1.17e-06</td>\n",
       "</tr>\n",
       "<tr>\n",
       "  <th>CE_VALUEFORMONEY</th>               <td>   -0.5662</td> <td>    0.083</td> <td>   -6.816</td> <td> 0.000</td> <td>   -0.729</td> <td>   -0.403</td>\n",
       "</tr>\n",
       "<tr>\n",
       "  <th>LengthofStay</th>                   <td>   -0.0059</td> <td>    0.008</td> <td>   -0.770</td> <td> 0.441</td> <td>   -0.021</td> <td>    0.009</td>\n",
       "</tr>\n",
       "<tr>\n",
       "  <th>AE_ATTENDEEFOOD</th>                <td>   -0.1122</td> <td>    0.079</td> <td>   -1.425</td> <td> 0.154</td> <td>   -0.267</td> <td>    0.042</td>\n",
       "</tr>\n",
       "<tr>\n",
       "  <th>CE_ACCESSIBILITY</th>               <td>   -0.1943</td> <td>    0.085</td> <td>   -2.274</td> <td> 0.023</td> <td>   -0.362</td> <td>   -0.027</td>\n",
       "</tr>\n",
       "<tr>\n",
       "  <th>DP_DISCHARGEPROCESS</th>            <td>    0.0954</td> <td>    0.127</td> <td>    0.749</td> <td> 0.454</td> <td>   -0.154</td> <td>    0.345</td>\n",
       "</tr>\n",
       "<tr>\n",
       "  <th>DP_DISCHARGETIME</th>               <td>   -0.1687</td> <td>    0.104</td> <td>   -1.629</td> <td> 0.103</td> <td>   -0.372</td> <td>    0.034</td>\n",
       "</tr>\n",
       "<tr>\n",
       "  <th>AD_TARRIFFPACKAGESEXPLAINATION</th> <td>   -0.3770</td> <td>    0.092</td> <td>   -4.098</td> <td> 0.000</td> <td>   -0.557</td> <td>   -0.197</td>\n",
       "</tr>\n",
       "<tr>\n",
       "  <th>FNB_FOODQUALITY</th>                <td>   -0.0953</td> <td>    0.075</td> <td>   -1.266</td> <td> 0.206</td> <td>   -0.243</td> <td>    0.052</td>\n",
       "</tr>\n",
       "<tr>\n",
       "  <th>FNB_FOODDELIVERYTIME</th>           <td>   -0.1165</td> <td>    0.086</td> <td>   -1.359</td> <td> 0.174</td> <td>   -0.284</td> <td>    0.051</td>\n",
       "</tr>\n",
       "<tr>\n",
       "  <th>FNB_DIETICIAN</th>                  <td>   -0.0214</td> <td>    0.092</td> <td>   -0.233</td> <td> 0.816</td> <td>   -0.202</td> <td>    0.159</td>\n",
       "</tr>\n",
       "<tr>\n",
       "  <th>AD_TIME</th>                        <td>    0.0019</td> <td>    0.082</td> <td>    0.023</td> <td> 0.982</td> <td>   -0.158</td> <td>    0.162</td>\n",
       "</tr>\n",
       "<tr>\n",
       "  <th>DP_DISCHARGEQUERIES</th>            <td>   -0.2048</td> <td>    0.108</td> <td>   -1.903</td> <td> 0.057</td> <td>   -0.416</td> <td>    0.006</td>\n",
       "</tr>\n",
       "<tr>\n",
       "  <th>INR_ROOMPEACE</th>                  <td>   -0.1020</td> <td>    0.084</td> <td>   -1.209</td> <td> 0.227</td> <td>   -0.268</td> <td>    0.063</td>\n",
       "</tr>\n",
       "<tr>\n",
       "  <th>INR_ROOMAMBIENCE</th>               <td>   -0.1836</td> <td>    0.111</td> <td>   -1.652</td> <td> 0.099</td> <td>   -0.401</td> <td>    0.034</td>\n",
       "</tr>\n",
       "<tr>\n",
       "  <th>BedCategory_GENERAL</th>            <td>   -0.4401</td> <td>    0.110</td> <td>   -4.000</td> <td> 0.000</td> <td>   -0.656</td> <td>   -0.224</td>\n",
       "</tr>\n",
       "<tr>\n",
       "  <th>Sex_M</th>                          <td>   -0.0608</td> <td>    0.079</td> <td>   -0.766</td> <td> 0.443</td> <td>   -0.216</td> <td>    0.095</td>\n",
       "</tr>\n",
       "<tr>\n",
       "  <th>AE_PATIENTSTATUSINFO</th>           <td>   -0.2604</td> <td>    0.112</td> <td>   -2.320</td> <td> 0.020</td> <td>   -0.480</td> <td>   -0.040</td>\n",
       "</tr>\n",
       "<tr>\n",
       "  <th>DOC_VISITS</th>                     <td>   -0.1930</td> <td>    0.086</td> <td>   -2.235</td> <td> 0.025</td> <td>   -0.362</td> <td>   -0.024</td>\n",
       "</tr>\n",
       "<tr>\n",
       "  <th>INR_ROOMCLEANLINESS</th>            <td>    0.1581</td> <td>    0.093</td> <td>    1.703</td> <td> 0.089</td> <td>   -0.024</td> <td>    0.340</td>\n",
       "</tr>\n",
       "<tr>\n",
       "  <th>INR_ROOMEQUIPMENT</th>              <td>    0.1667</td> <td>    0.100</td> <td>    1.671</td> <td> 0.095</td> <td>   -0.029</td> <td>    0.362</td>\n",
       "</tr>\n",
       "<tr>\n",
       "  <th>AD_STAFFATTITUDE</th>               <td>    0.2875</td> <td>    0.098</td> <td>    2.938</td> <td> 0.003</td> <td>    0.096</td> <td>    0.479</td>\n",
       "</tr>\n",
       "<tr>\n",
       "  <th>BedCategory_SEMISPECIAL</th>        <td>    0.0798</td> <td>    0.092</td> <td>    0.864</td> <td> 0.387</td> <td>   -0.101</td> <td>    0.261</td>\n",
       "</tr>\n",
       "<tr>\n",
       "  <th>AE_ATTENDEECARE</th>                <td>    0.0236</td> <td>    0.106</td> <td>    0.224</td> <td> 0.823</td> <td>   -0.183</td> <td>    0.231</td>\n",
       "</tr>\n",
       "<tr>\n",
       "  <th>InsPayorcategory_PATIENT</th>       <td>    0.1349</td> <td>    0.112</td> <td>    1.203</td> <td> 0.229</td> <td>   -0.085</td> <td>    0.355</td>\n",
       "</tr>\n",
       "<tr>\n",
       "  <th>InsPayorcategory_INSURANCE</th>     <td>    0.1268</td> <td>    0.116</td> <td>    1.091</td> <td> 0.275</td> <td>   -0.101</td> <td>    0.355</td>\n",
       "</tr>\n",
       "<tr>\n",
       "  <th>Department_GEN</th>                 <td>    0.1390</td> <td>    0.082</td> <td>    1.696</td> <td> 0.090</td> <td>   -0.022</td> <td>    0.300</td>\n",
       "</tr>\n",
       "</table>"
      ],
      "text/plain": [
       "<class 'statsmodels.iolib.summary.Summary'>\n",
       "\"\"\"\n",
       "                            Logit Regression Results                           \n",
       "===============================================================================\n",
       "Dep. Variable:     NPS_Status_Combined   No. Observations:                 3747\n",
       "Model:                           Logit   Df Residuals:                     3716\n",
       "Method:                            MLE   Df Model:                           30\n",
       "Date:                 Mon, 07 Oct 2019   Pseudo R-squ.:                  0.2051\n",
       "Time:                         18:28:11   Log-Likelihood:                -1982.5\n",
       "converged:                        True   LL-Null:                       -2494.1\n",
       "Covariance Type:             nonrobust   LLR p-value:                6.368e-196\n",
       "==================================================================================================\n",
       "                                     coef    std err          z      P>|z|      [0.025      0.975]\n",
       "--------------------------------------------------------------------------------------------------\n",
       "const                              8.3609      0.426     19.638      0.000       7.526       9.195\n",
       "HospitalNo2                    -1.662e-06   1.36e-06     -1.223      0.221   -4.32e-06       1e-06\n",
       "AgeYrs                            -0.0041      0.002     -2.271      0.023      -0.008      -0.001\n",
       "CE_CSAT                           -0.7221      0.096     -7.523      0.000      -0.910      -0.534\n",
       "Estimatedcost                   3.496e-07    4.2e-07      0.833      0.405   -4.73e-07    1.17e-06\n",
       "CE_VALUEFORMONEY                  -0.5662      0.083     -6.816      0.000      -0.729      -0.403\n",
       "LengthofStay                      -0.0059      0.008     -0.770      0.441      -0.021       0.009\n",
       "AE_ATTENDEEFOOD                   -0.1122      0.079     -1.425      0.154      -0.267       0.042\n",
       "CE_ACCESSIBILITY                  -0.1943      0.085     -2.274      0.023      -0.362      -0.027\n",
       "DP_DISCHARGEPROCESS                0.0954      0.127      0.749      0.454      -0.154       0.345\n",
       "DP_DISCHARGETIME                  -0.1687      0.104     -1.629      0.103      -0.372       0.034\n",
       "AD_TARRIFFPACKAGESEXPLAINATION    -0.3770      0.092     -4.098      0.000      -0.557      -0.197\n",
       "FNB_FOODQUALITY                   -0.0953      0.075     -1.266      0.206      -0.243       0.052\n",
       "FNB_FOODDELIVERYTIME              -0.1165      0.086     -1.359      0.174      -0.284       0.051\n",
       "FNB_DIETICIAN                     -0.0214      0.092     -0.233      0.816      -0.202       0.159\n",
       "AD_TIME                            0.0019      0.082      0.023      0.982      -0.158       0.162\n",
       "DP_DISCHARGEQUERIES               -0.2048      0.108     -1.903      0.057      -0.416       0.006\n",
       "INR_ROOMPEACE                     -0.1020      0.084     -1.209      0.227      -0.268       0.063\n",
       "INR_ROOMAMBIENCE                  -0.1836      0.111     -1.652      0.099      -0.401       0.034\n",
       "BedCategory_GENERAL               -0.4401      0.110     -4.000      0.000      -0.656      -0.224\n",
       "Sex_M                             -0.0608      0.079     -0.766      0.443      -0.216       0.095\n",
       "AE_PATIENTSTATUSINFO              -0.2604      0.112     -2.320      0.020      -0.480      -0.040\n",
       "DOC_VISITS                        -0.1930      0.086     -2.235      0.025      -0.362      -0.024\n",
       "INR_ROOMCLEANLINESS                0.1581      0.093      1.703      0.089      -0.024       0.340\n",
       "INR_ROOMEQUIPMENT                  0.1667      0.100      1.671      0.095      -0.029       0.362\n",
       "AD_STAFFATTITUDE                   0.2875      0.098      2.938      0.003       0.096       0.479\n",
       "BedCategory_SEMISPECIAL            0.0798      0.092      0.864      0.387      -0.101       0.261\n",
       "AE_ATTENDEECARE                    0.0236      0.106      0.224      0.823      -0.183       0.231\n",
       "InsPayorcategory_PATIENT           0.1349      0.112      1.203      0.229      -0.085       0.355\n",
       "InsPayorcategory_INSURANCE         0.1268      0.116      1.091      0.275      -0.101       0.355\n",
       "Department_GEN                     0.1390      0.082      1.696      0.090      -0.022       0.300\n",
       "==================================================================================================\n",
       "\"\"\""
      ]
     },
     "execution_count": 56,
     "metadata": {},
     "output_type": "execute_result"
    }
   ],
   "source": [
    "import statsmodels.api as sm\n",
    "\n",
    "X = X_train[X_selected_feature_columns]\n",
    "\n",
    "#X_test = X_test[X_selected_feature_columns]\n",
    "\n",
    "logit = sm.Logit(y_train,sm.add_constant(X))\n",
    "logit_model = logit.fit()\n",
    "logit_model.summary()"
   ]
  },
  {
   "cell_type": "code",
   "execution_count": 57,
   "metadata": {},
   "outputs": [],
   "source": [
    "def get_significant_vars(lm):\n",
    "    var_p_vals_df = pd.DataFrame(lm.pvalues)\n",
    "    var_p_vals_df['vars'] = var_p_vals_df.index\n",
    "    var_p_vals_df.columns = ['pvals','vars']\n",
    "    return list(var_p_vals_df[var_p_vals_df.pvals <= 0.05]['vars'])\n"
   ]
  },
  {
   "cell_type": "code",
   "execution_count": 58,
   "metadata": {},
   "outputs": [
    {
     "name": "stdout",
     "output_type": "stream",
     "text": [
      "Optimization terminated successfully.\n",
      "         Current function value: 0.536109\n",
      "         Iterations 6\n"
     ]
    },
    {
     "data": {
      "text/html": [
       "<table class=\"simpletable\">\n",
       "<caption>Logit Regression Results</caption>\n",
       "<tr>\n",
       "  <th>Dep. Variable:</th>   <td>NPS_Status_Combined</td> <th>  No. Observations:  </th>   <td>  3747</td>  \n",
       "</tr>\n",
       "<tr>\n",
       "  <th>Model:</th>                  <td>Logit</td>        <th>  Df Residuals:      </th>   <td>  3737</td>  \n",
       "</tr>\n",
       "<tr>\n",
       "  <th>Method:</th>                  <td>MLE</td>         <th>  Df Model:          </th>   <td>     9</td>  \n",
       "</tr>\n",
       "<tr>\n",
       "  <th>Date:</th>             <td>Mon, 07 Oct 2019</td>   <th>  Pseudo R-squ.:     </th>   <td>0.1946</td>  \n",
       "</tr>\n",
       "<tr>\n",
       "  <th>Time:</th>                 <td>18:29:27</td>       <th>  Log-Likelihood:    </th>  <td> -2008.8</td> \n",
       "</tr>\n",
       "<tr>\n",
       "  <th>converged:</th>              <td>True</td>         <th>  LL-Null:           </th>  <td> -2494.1</td> \n",
       "</tr>\n",
       "<tr>\n",
       "  <th>Covariance Type:</th>      <td>nonrobust</td>      <th>  LLR p-value:       </th> <td>3.728e-203</td>\n",
       "</tr>\n",
       "</table>\n",
       "<table class=\"simpletable\">\n",
       "<tr>\n",
       "                 <td></td>                   <th>coef</th>     <th>std err</th>      <th>z</th>      <th>P>|z|</th>  <th>[0.025</th>    <th>0.975]</th>  \n",
       "</tr>\n",
       "<tr>\n",
       "  <th>const</th>                          <td>    8.4355</td> <td>    0.386</td> <td>   21.877</td> <td> 0.000</td> <td>    7.680</td> <td>    9.191</td>\n",
       "</tr>\n",
       "<tr>\n",
       "  <th>AgeYrs</th>                         <td>   -0.0043</td> <td>    0.002</td> <td>   -2.529</td> <td> 0.011</td> <td>   -0.008</td> <td>   -0.001</td>\n",
       "</tr>\n",
       "<tr>\n",
       "  <th>CE_CSAT</th>                        <td>   -0.7858</td> <td>    0.094</td> <td>   -8.342</td> <td> 0.000</td> <td>   -0.970</td> <td>   -0.601</td>\n",
       "</tr>\n",
       "<tr>\n",
       "  <th>CE_VALUEFORMONEY</th>               <td>   -0.6530</td> <td>    0.081</td> <td>   -8.101</td> <td> 0.000</td> <td>   -0.811</td> <td>   -0.495</td>\n",
       "</tr>\n",
       "<tr>\n",
       "  <th>CE_ACCESSIBILITY</th>               <td>   -0.1775</td> <td>    0.084</td> <td>   -2.123</td> <td> 0.034</td> <td>   -0.341</td> <td>   -0.014</td>\n",
       "</tr>\n",
       "<tr>\n",
       "  <th>AD_TARRIFFPACKAGESEXPLAINATION</th> <td>   -0.4867</td> <td>    0.083</td> <td>   -5.836</td> <td> 0.000</td> <td>   -0.650</td> <td>   -0.323</td>\n",
       "</tr>\n",
       "<tr>\n",
       "  <th>BedCategory_GENERAL</th>            <td>   -0.5790</td> <td>    0.090</td> <td>   -6.409</td> <td> 0.000</td> <td>   -0.756</td> <td>   -0.402</td>\n",
       "</tr>\n",
       "<tr>\n",
       "  <th>AE_PATIENTSTATUSINFO</th>           <td>   -0.4143</td> <td>    0.087</td> <td>   -4.785</td> <td> 0.000</td> <td>   -0.584</td> <td>   -0.245</td>\n",
       "</tr>\n",
       "<tr>\n",
       "  <th>DOC_VISITS</th>                     <td>   -0.2429</td> <td>    0.084</td> <td>   -2.887</td> <td> 0.004</td> <td>   -0.408</td> <td>   -0.078</td>\n",
       "</tr>\n",
       "<tr>\n",
       "  <th>AD_STAFFATTITUDE</th>               <td>    0.2369</td> <td>    0.090</td> <td>    2.640</td> <td> 0.008</td> <td>    0.061</td> <td>    0.413</td>\n",
       "</tr>\n",
       "</table>"
      ],
      "text/plain": [
       "<class 'statsmodels.iolib.summary.Summary'>\n",
       "\"\"\"\n",
       "                            Logit Regression Results                           \n",
       "===============================================================================\n",
       "Dep. Variable:     NPS_Status_Combined   No. Observations:                 3747\n",
       "Model:                           Logit   Df Residuals:                     3737\n",
       "Method:                            MLE   Df Model:                            9\n",
       "Date:                 Mon, 07 Oct 2019   Pseudo R-squ.:                  0.1946\n",
       "Time:                         18:29:27   Log-Likelihood:                -2008.8\n",
       "converged:                        True   LL-Null:                       -2494.1\n",
       "Covariance Type:             nonrobust   LLR p-value:                3.728e-203\n",
       "==================================================================================================\n",
       "                                     coef    std err          z      P>|z|      [0.025      0.975]\n",
       "--------------------------------------------------------------------------------------------------\n",
       "const                              8.4355      0.386     21.877      0.000       7.680       9.191\n",
       "AgeYrs                            -0.0043      0.002     -2.529      0.011      -0.008      -0.001\n",
       "CE_CSAT                           -0.7858      0.094     -8.342      0.000      -0.970      -0.601\n",
       "CE_VALUEFORMONEY                  -0.6530      0.081     -8.101      0.000      -0.811      -0.495\n",
       "CE_ACCESSIBILITY                  -0.1775      0.084     -2.123      0.034      -0.341      -0.014\n",
       "AD_TARRIFFPACKAGESEXPLAINATION    -0.4867      0.083     -5.836      0.000      -0.650      -0.323\n",
       "BedCategory_GENERAL               -0.5790      0.090     -6.409      0.000      -0.756      -0.402\n",
       "AE_PATIENTSTATUSINFO              -0.4143      0.087     -4.785      0.000      -0.584      -0.245\n",
       "DOC_VISITS                        -0.2429      0.084     -2.887      0.004      -0.408      -0.078\n",
       "AD_STAFFATTITUDE                   0.2369      0.090      2.640      0.008       0.061       0.413\n",
       "==================================================================================================\n",
       "\"\"\""
      ]
     },
     "execution_count": 58,
     "metadata": {},
     "output_type": "execute_result"
    }
   ],
   "source": [
    "significant_vars = get_significant_vars(logit_model)\n",
    "#print(significant_vars)\n",
    "significant_vars.remove('const')\n",
    "final_logit = sm.Logit(y_train,sm.add_constant(X[significant_vars]))\n",
    "final_logit_model = final_logit.fit()\n",
    "final_logit_model.summary()"
   ]
  },
  {
   "cell_type": "code",
   "execution_count": 59,
   "metadata": {
    "scrolled": true
   },
   "outputs": [
    {
     "name": "stdout",
     "output_type": "stream",
     "text": [
      "AUC score :  0.78\n"
     ]
    }
   ],
   "source": [
    "auc_score = metrics.roc_auc_score(Y_pred_test_df.actual,Y_pred_test_df.predicted_prob)\n",
    "print('AUC score : ', round(float(auc_score),2))\n",
    "#auc_score"
   ]
  },
  {
   "cell_type": "markdown",
   "metadata": {},
   "source": [
    "## Creating Confusion Matrix"
   ]
  },
  {
   "cell_type": "code",
   "execution_count": 60,
   "metadata": {},
   "outputs": [],
   "source": [
    "from sklearn import metrics\n",
    "\n",
    "def draw_cm(actual, predicted):\n",
    "    cm = metrics.confusion_matrix(actual, predicted, [1,0])\n",
    "    sns.heatmap(cm,annot = True, fmt='.2f',xticklabels=['Detractors','Promoters'],yticklabels= ['Detractors','Promoters'])\n",
    "    plt.ylabel('True Label')\n",
    "    plt.xlabel('Predicted Label')\n",
    "    plt.show()"
   ]
  },
  {
   "cell_type": "code",
   "execution_count": 61,
   "metadata": {},
   "outputs": [
    {
     "data": {
      "image/png": "[encoded data removed]",
      "text/plain": [
       "<Figure size 432x288 with 2 Axes>"
      ]
     },
     "metadata": {
      "needs_background": "light"
     },
     "output_type": "display_data"
    }
   ],
   "source": [
    "draw_cm(Y_pred_test_df.actual,Y_pred_test_df.predicted)"
   ]
  },
  {
   "cell_type": "markdown",
   "metadata": {},
   "source": [
    "## Creating ROC Curve"
   ]
  },
  {
   "cell_type": "code",
   "execution_count": 62,
   "metadata": {},
   "outputs": [],
   "source": [
    "def draw_roc(actual,probs):\n",
    "    fpr,tpr,thresholds = metrics.roc_curve(actual,probs,drop_intermediate = False)\n",
    "    auc_score = metrics.roc_auc_score(actual,probs)\n",
    "    plt.figure(figsize = (8,6))\n",
    "    plt.plot(fpr,tpr,label = 'ROC curve (area = %0.2f)' % auc_score)\n",
    "    plt.plot([0,1],[0,1],'k--')\n",
    "    plt.xlim([0.0,1.0])\n",
    "    plt.xlim([0.0,1.05])\n",
    "    plt.xlabel('False Positive Rate or [1 - True Negative Rate]')\n",
    "    plt.ylabel('True Positive Rate')\n",
    "    plt.show()\n",
    "    return fpr, tpr, thresholds\n",
    "\n",
    "    "
   ]
  },
  {
   "cell_type": "code",
   "execution_count": 63,
   "metadata": {
    "scrolled": true
   },
   "outputs": [
    {
     "name": "stdout",
     "output_type": "stream",
     "text": [
      "              precision    recall  f1-score   support\n",
      "\n",
      "           0       0.78      0.84      0.81      1032\n",
      "           1       0.66      0.57      0.61       574\n",
      "\n",
      "    accuracy                           0.74      1606\n",
      "   macro avg       0.72      0.70      0.71      1606\n",
      "weighted avg       0.74      0.74      0.74      1606\n",
      "\n",
      "AUC score :  0.78\n",
      "obs per decile  160\n"
     ]
    },
    {
     "name": "stderr",
     "output_type": "stream",
     "text": [
      "/Applications/anaconda3/lib/python3.7/site-packages/numpy/core/fromnumeric.py:2389: FutureWarning: Method .ptp is deprecated and will be removed in a future version. Use numpy.ptp instead.\n",
      "  return ptp(axis=axis, out=out, **kwargs)\n"
     ]
    },
    {
     "data": {
      "text/html": [
       "<div>\n",
       "<style scoped>\n",
       "    .dataframe tbody tr th:only-of-type {\n",
       "        vertical-align: middle;\n",
       "    }\n",
       "\n",
       "    .dataframe tbody tr th {\n",
       "        vertical-align: top;\n",
       "    }\n",
       "\n",
       "    .dataframe thead th {\n",
       "        text-align: right;\n",
       "    }\n",
       "</style>\n",
       "<table border=\"1\" class=\"dataframe\">\n",
       "  <thead>\n",
       "    <tr style=\"text-align: right;\">\n",
       "      <th></th>\n",
       "      <th>decile</th>\n",
       "      <th>gain</th>\n",
       "      <th>gain_percentage</th>\n",
       "      <th>lift</th>\n",
       "    </tr>\n",
       "  </thead>\n",
       "  <tbody>\n",
       "    <tr>\n",
       "      <th>0</th>\n",
       "      <td>1</td>\n",
       "      <td>149</td>\n",
       "      <td>25.958188</td>\n",
       "      <td>2.595819</td>\n",
       "    </tr>\n",
       "    <tr>\n",
       "      <th>1</th>\n",
       "      <td>2</td>\n",
       "      <td>92</td>\n",
       "      <td>41.986063</td>\n",
       "      <td>2.099303</td>\n",
       "    </tr>\n",
       "    <tr>\n",
       "      <th>2</th>\n",
       "      <td>3</td>\n",
       "      <td>77</td>\n",
       "      <td>55.400697</td>\n",
       "      <td>1.846690</td>\n",
       "    </tr>\n",
       "    <tr>\n",
       "      <th>3</th>\n",
       "      <td>4</td>\n",
       "      <td>67</td>\n",
       "      <td>67.073171</td>\n",
       "      <td>1.676829</td>\n",
       "    </tr>\n",
       "    <tr>\n",
       "      <th>4</th>\n",
       "      <td>5</td>\n",
       "      <td>42</td>\n",
       "      <td>74.390244</td>\n",
       "      <td>1.487805</td>\n",
       "    </tr>\n",
       "    <tr>\n",
       "      <th>5</th>\n",
       "      <td>6</td>\n",
       "      <td>42</td>\n",
       "      <td>81.707317</td>\n",
       "      <td>1.361789</td>\n",
       "    </tr>\n",
       "    <tr>\n",
       "      <th>6</th>\n",
       "      <td>7</td>\n",
       "      <td>38</td>\n",
       "      <td>88.327526</td>\n",
       "      <td>1.261822</td>\n",
       "    </tr>\n",
       "    <tr>\n",
       "      <th>7</th>\n",
       "      <td>8</td>\n",
       "      <td>25</td>\n",
       "      <td>92.682927</td>\n",
       "      <td>1.158537</td>\n",
       "    </tr>\n",
       "    <tr>\n",
       "      <th>8</th>\n",
       "      <td>9</td>\n",
       "      <td>21</td>\n",
       "      <td>96.341463</td>\n",
       "      <td>1.070461</td>\n",
       "    </tr>\n",
       "    <tr>\n",
       "      <th>9</th>\n",
       "      <td>10</td>\n",
       "      <td>21</td>\n",
       "      <td>100.000000</td>\n",
       "      <td>1.000000</td>\n",
       "    </tr>\n",
       "  </tbody>\n",
       "</table>\n",
       "</div>"
      ],
      "text/plain": [
       "   decile  gain  gain_percentage      lift\n",
       "0       1   149        25.958188  2.595819\n",
       "1       2    92        41.986063  2.099303\n",
       "2       3    77        55.400697  1.846690\n",
       "3       4    67        67.073171  1.676829\n",
       "4       5    42        74.390244  1.487805\n",
       "5       6    42        81.707317  1.361789\n",
       "6       7    38        88.327526  1.261822\n",
       "7       8    25        92.682927  1.158537\n",
       "8       9    21        96.341463  1.070461\n",
       "9      10    21       100.000000  1.000000"
      ]
     },
     "execution_count": 63,
     "metadata": {},
     "output_type": "execute_result"
    }
   ],
   "source": [
    "significant_vars = get_significant_vars(final_logit_model)\n",
    "significant_vars.remove('const')\n",
    "Y_pred_test_df = pd.DataFrame({\"actual\": y_test,\"predicted_prob\": final_logit_model.predict(sm.add_constant(X_test[significant_vars]))})\n",
    "\n",
    "Y_pred_test_df['predicted'] = Y_pred_test_df.predicted_prob.map(lambda x:1 if x>0.5 else 0)\n",
    "\n",
    "from sklearn import metrics\n",
    "\n",
    "print(metrics.classification_report(Y_pred_test_df.actual,Y_pred_test_df.predicted))\n",
    "\n",
    "auc_score = metrics.roc_auc_score(Y_pred_test_df.actual,Y_pred_test_df.predicted_prob)\n",
    "print('AUC score : ', round(float(auc_score),2))\n",
    "\n",
    "sorted_Y_pred_test_df = Y_pred_test_df[['predicted_prob','actual']].sort_values('predicted_prob',ascending=False)\n",
    "\n",
    "num_per_decile = int(len(sorted_Y_pred_test_df)/10)\n",
    "print(\"obs per decile \",num_per_decile)\n",
    "\n",
    "def get_deciles(df):\n",
    "    df['decile'] = 1\n",
    "    \n",
    "    idx = 0\n",
    "    \n",
    "    for each_d in range(0,10):\n",
    "        df.iloc[idx:idx+num_per_decile, df.columns.get_loc('decile')] = each_d\n",
    "        idx += num_per_decile\n",
    "    \n",
    "    df['decile'] = df['decile'] + 1\n",
    "    return df\n",
    "\n",
    "deciles_predict_df = get_deciles(sorted_Y_pred_test_df)\n",
    "\n",
    "#deciles_predict_df[0:60]\n",
    "\n",
    "#Y_pred_test_df.sample(10,random_state=42)\n",
    "\n",
    "\n",
    "gain_lift_df = pd.DataFrame(deciles_predict_df.groupby('decile')['actual'].sum()).reset_index()\n",
    "gain_lift_df.columns = ['decile','gain']\n",
    "\n",
    "gain_lift_df['gain_percentage'] = (100*gain_lift_df.gain.cumsum()/gain_lift_df.gain.sum())\n",
    "\n",
    "gain_lift_df['lift'] = (gain_lift_df.gain_percentage/(gain_lift_df.decile*10))\n",
    "\n",
    "gain_lift_df"
   ]
  },
  {
   "cell_type": "code",
   "execution_count": 64,
   "metadata": {},
   "outputs": [
    {
     "name": "stdout",
     "output_type": "stream",
     "text": [
      "          tpr       fpr  thresholds      diff\n",
      "526  0.646341  0.211240    0.444644  0.435101\n",
      "510  0.634146  0.199612    0.458009  0.434534\n",
      "524  0.644599  0.210271    0.444964  0.434328\n",
      "518  0.639373  0.205426    0.448457  0.433946\n",
      "511  0.634146  0.200581    0.457079  0.433565\n"
     ]
    },
    {
     "data": {
      "image/png": "[encoded data removed]",
      "text/plain": [
       "<Figure size 576x432 with 1 Axes>"
      ]
     },
     "metadata": {
      "needs_background": "light"
     },
     "output_type": "display_data"
    },
    {
     "name": "stdout",
     "output_type": "stream",
     "text": [
      "              precision    recall  f1-score   support\n",
      "\n",
      "           0       0.80      0.79      0.79      1032\n",
      "           1       0.63      0.64      0.64       574\n",
      "\n",
      "    accuracy                           0.74      1606\n",
      "   macro avg       0.71      0.72      0.72      1606\n",
      "weighted avg       0.74      0.74      0.74      1606\n",
      "\n",
      "AUC score :  0.78\n"
     ]
    }
   ],
   "source": [
    "fpr,tpr,thresholds = metrics.roc_curve(Y_pred_test_df.actual,Y_pred_test_df.predicted_prob,drop_intermediate = False)\n",
    "\n",
    "tpr_fpr = pd.DataFrame({'tpr':tpr,'fpr':fpr,'thresholds':thresholds})\n",
    "tpr_fpr['diff'] = tpr_fpr.tpr - tpr_fpr.fpr\n",
    "\n",
    "print(tpr_fpr.sort_values('diff',ascending=False)[0:5])\n",
    "\n",
    "draw_roc(Y_pred_test_df.actual,Y_pred_test_df.predicted_prob)\n",
    "\n",
    "prob_cutoff = 0.445\n",
    "\n",
    "Y_pred_test_df['predicted'] = Y_pred_test_df.predicted_prob.map(lambda x:1 if x> prob_cutoff else 0)\n",
    "\n",
    "from sklearn import metrics\n",
    "\n",
    "print(metrics.classification_report(Y_pred_test_df.actual,Y_pred_test_df.predicted))\n",
    "\n",
    "auc_score = metrics.roc_auc_score(Y_pred_test_df.actual,Y_pred_test_df.predicted_prob)\n",
    "print('AUC score : ', round(float(auc_score),2))\n",
    "\n"
   ]
  },
  {
   "cell_type": "code",
   "execution_count": 65,
   "metadata": {},
   "outputs": [
    {
     "data": {
      "image/png": "[encoded data removed]",
      "text/plain": [
       "<Figure size 432x288 with 2 Axes>"
      ]
     },
     "metadata": {
      "needs_background": "light"
     },
     "output_type": "display_data"
    }
   ],
   "source": [
    "draw_cm(Y_pred_test_df.actual,Y_pred_test_df.predicted)"
   ]
  },
  {
   "cell_type": "markdown",
   "metadata": {},
   "source": [
    "## Multinomial Classification"
   ]
  },
  {
   "cell_type": "code",
   "execution_count": 66,
   "metadata": {
    "scrolled": false
   },
   "outputs": [],
   "source": [
    "mhmergeddf['NPS_Status'] = mhmergeddf['NPS_Status'].map({'Promotor':0,'Passive':1,'Detractor':2})"
   ]
  },
  {
   "cell_type": "code",
   "execution_count": 67,
   "metadata": {},
   "outputs": [
    {
     "data": {
      "text/plain": [
       "0    3343\n",
       "1    1464\n",
       "2     546\n",
       "Name: NPS_Status, dtype: int64"
      ]
     },
     "execution_count": 67,
     "metadata": {},
     "output_type": "execute_result"
    }
   ],
   "source": [
    "mhmergeddf['NPS_Status'].value_counts()"
   ]
  },
  {
   "cell_type": "code",
   "execution_count": 68,
   "metadata": {},
   "outputs": [],
   "source": [
    "X_features = mhmergeddf[mhmergeddf.columns.difference(['SN','NPS_Status','NPS_Status_Combined','AdmissionDate','DischargeDate','CE_NPS'])]\n",
    "\n",
    "encoded_X_features = pd.get_dummies(mhmergeddf[X_features.columns],drop_first=True)\n",
    "\n",
    "from sklearn.model_selection import train_test_split\n",
    "X_train, X_test, y_train, y_test = train_test_split(encoded_X_features,mhmergeddf['NPS_Status'],test_size=0.3,random_state=42)\n"
   ]
  },
  {
   "cell_type": "markdown",
   "metadata": {},
   "source": [
    "## Feature selection"
   ]
  },
  {
   "cell_type": "code",
   "execution_count": 69,
   "metadata": {},
   "outputs": [
    {
     "name": "stdout",
     "output_type": "stream",
     "text": [
      " 1) HospitalNo2                    0.070510\n",
      " 2) AgeYrs                         0.061932\n",
      " 3) Estimatedcost                  0.052710\n",
      " 4) CE_VALUEFORMONEY               0.050036\n",
      " 5) CE_CSAT                        0.047106\n",
      " 6) LengthofStay                   0.043747\n",
      " 7) CE_ACCESSIBILITY               0.029103\n",
      " 8) AE_ATTENDEEFOOD                0.024194\n",
      " 9) DP_DISCHARGETIME               0.020493\n",
      "10) AD_TARRIFFPACKAGESEXPLAINATION 0.020460\n",
      "11) DP_DISCHARGEPROCESS            0.020150\n",
      "12) FNB_FOODQUALITY                0.019497\n",
      "13) AD_TIME                        0.018733\n",
      "14) FNB_FOODDELIVERYTIME           0.017545\n",
      "15) DP_DISCHARGEQUERIES            0.017298\n",
      "16) INR_ROOMPEACE                  0.016621\n",
      "17) FNB_DIETICIAN                  0.016379\n",
      "18) INR_ROOMCLEANLINESS            0.016163\n",
      "19) INR_ROOMAMBIENCE               0.015813\n",
      "20) Sex_M                          0.015635\n",
      "21) AE_PATIENTSTATUSINFO           0.014979\n",
      "22) DOC_VISITS                     0.014517\n",
      "23) BedCategory_GENERAL            0.014330\n",
      "24) INR_ROOMEQUIPMENT              0.013803\n",
      "25) AD_STAFFATTITUDE               0.013704\n",
      "26) Department_GEN                 0.013283\n",
      "27) AE_ATTENDEECARE                0.013237\n",
      "28) BedCategory_SEMISPECIAL        0.013137\n",
      "29) InsPayorcategory_PATIENT       0.012961\n",
      "30) FNB_STAFFATTITUDE              0.012826\n",
      "31) InsPayorcategory_INSURANCE     0.012638\n",
      "32) OVS_SECURITYATTITUDE           0.011423\n",
      "33) EM_IMMEDIATEATTENTION          0.010796\n",
      "34) NS_CALLBELLRESPONSE            0.010772\n",
      "35) EM_OVERALL                     0.010701\n",
      "36) OVS_OVERALLSTAFFPROMPTNESS     0.010580\n",
      "37) BedCategory_SPECIAL            0.010456\n",
      "38) NS_NURSEPROACTIVENESS          0.010277\n",
      "39) EM_NURSING                     0.009894\n",
      "40) DOC_TREATMENTEFFECTIVENESS     0.009749\n",
      "41) DOC_TREATMENTEXPLAINATION      0.009679\n",
      "42) DOC_ATTITUDE                   0.009443\n",
      "43) OVS_OVERALLSTAFFATTITUDE       0.009379\n",
      "44) MaritalStatus_Married          0.009188\n",
      "45) NS_NURSEPATIENCE               0.009051\n",
      "46) MaritalStatus_Single           0.009006\n",
      "47) Department_SPECIAL             0.008786\n",
      "48) State_Karnataka                0.008171\n",
      "49) NS_NURSESATTITUDE              0.008017\n",
      "50) EM_DOCTOR                      0.007348\n",
      "51) Department_PEDIATRIC           0.006730\n",
      "52) InsPayorcategory_EXEMPTION     0.006415\n",
      "53) Department_ORTHO               0.005507\n",
      "54) Department_GYNAEC              0.005448\n",
      "55) BedCategory_ULTRA SPL          0.005357\n",
      "56) STATEZONE_SOUTH                0.004758\n",
      "57) State_Andhra Pradesh           0.003745\n",
      "58) STATEZONE_EAST                 0.003632\n",
      "59) Department_RENAL               0.003297\n",
      "60) State_West Bengal              0.003272\n",
      "61) State_Tamil Nadu               0.003011\n",
      "62) BedCategory_GENERAL HD         0.002603\n",
      "63) BedCategory_DAYCARE            0.002101\n",
      "64) BedCategory_ULTRA DLX          0.001519\n",
      "65) State_Kerala                   0.001417\n",
      "66) STATEZONE_Unknown              0.001403\n",
      "67) State_Unknown                  0.001293\n",
      "68) InsPayorcategory_INTERNATIONAL 0.001097\n",
      "69) Country_INDIA                  0.001008\n",
      "70) State_Orissa                   0.000957\n",
      "71) STATEZONE_NORTH                0.000936\n",
      "72) STATEZONE_INTERNATIONAL        0.000795\n",
      "73) BedCategory_SEMISPECIAL HD     0.000627\n",
      "74) STATEZONE_WEST                 0.000603\n",
      "75) State_Bihar                    0.000450\n",
      "76) State_Uttar Pradesh            0.000448\n",
      "77) State_Maharashtra              0.000390\n",
      "78) State_Punjab                   0.000384\n",
      "79) State_Jharkhand                0.000318\n",
      "80) State_Assam                    0.000302\n",
      "81) State_Delhi                    0.000271\n",
      "82) State_Tanzania                 0.000253\n",
      "83) Country_UNITED REPUBLIC OF TANZANIA 0.000238\n",
      "84) State_Oman                     0.000211\n",
      "85) State_Goa                      0.000192\n",
      "86) State_Mauritius                0.000182\n",
      "87) State_Maldives                 0.000166\n",
      "88) State_Manipur                  0.000158\n",
      "89) Country_MAURITIUS              0.000155\n",
      "90) Country_MALDIVES               0.000146\n",
      "91) Country_OMAN                   0.000142\n",
      "92) Country_SUDAN                  0.000139\n",
      "93) State_Rajasthan                0.000137\n",
      "94) State_Madhya Pradesh           0.000110\n",
      "95) MaritalStatus_Widowed          0.000102\n",
      "96) Country_YEMEN                  0.000084\n",
      "97) State_Kolkatta                 0.000082\n",
      "98) State_Chhattisgarh             0.000081\n",
      "99) State_RWANDA                   0.000070\n",
      "100) MaritalStatus_Separated        0.000066\n",
      "101) State_Iraq                     0.000064\n",
      "102) Country_IRAQ                   0.000061\n",
      "103) Country_Africa                 0.000060\n",
      "104) State_Uttarakhand              0.000059\n",
      "105) State_Ontario                  0.000056\n",
      "106) Country_NEW ZEALAND            0.000052\n",
      "107) Country_ZIMBABWE               0.000051\n",
      "108) Country_CANADA                 0.000049\n",
      "109) State_International            0.000048\n",
      "110) State_New Zealand              0.000047\n",
      "111) State_UK                       0.000033\n",
      "112) Country_UNITED KINGDOM         0.000033\n",
      "113) State_Zimbabwe                 0.000030\n",
      "114) State_Bangladesh               0.000027\n",
      "115) State_Mongolia                 0.000026\n",
      "116) State_Tripura                  0.000026\n",
      "117) State_Gujarat                  0.000023\n",
      "118) Country_FIJI                   0.000023\n",
      "119) Country_MONGOLIA               0.000021\n",
      "120) Country_BANGLADESH             0.000015\n",
      "121) State_Bhubaneshwar             0.000015\n",
      "122) State_Kenya                    0.000015\n",
      "123) State_Meghalaya                0.000014\n",
      "124) Country_MOZAMBIQUE             0.000011\n",
      "125) BedCategory_Renal ICU          0.000009\n",
      "126) Country_GERMANY                0.000008\n",
      "127) State_Muscat                   0.000007\n",
      "128) State_Nigeria                  0.000006\n",
      "129) Country_KENYA                  0.000005\n",
      "130) Country_NEPAL                  0.000005\n",
      "131) State_Ranchi                   0.000005\n",
      "132) State_Kolkata                  0.000005\n",
      "133) State_Jharkand                 0.000005\n",
      "134) State_Mumbai                   0.000004\n",
      "135) State_Sikkim                   0.000003\n",
      "136) Country_NIGERIA                0.000003\n",
      "137) State_Germany                  0.000003\n",
      "138) Country_QATAR                  0.000003\n",
      "139) State_Saudi Arabia             0.000002\n",
      "140) Country_ISLAMIC REPUBLIC OF IRAN 0.000001\n",
      "141) Country_UGANDA                 0.000001\n",
      "142) State_Doha                     0.000001\n",
      "143) State_Andaman And Nicobar      0.000001\n",
      "144) State_UAE                      0.000001\n",
      "145) Country_SAUDI ARABIA           0.000000\n",
      "146) Country_UNITED ARAB EMIRATES   0.000000\n",
      "147) State_Nepal                    0.000000\n",
      "148) State_Darjeeling               0.000000\n",
      "149) State_Haryana                  0.000000\n",
      "150) Country_UNITED STATES OF AMERICA 0.000000\n",
      "151) State_USA                      0.000000\n",
      "152) State_Chandigarh               0.000000\n",
      "153) BedCategory_ITU                0.000000\n",
      "154) Country_Saudi Arabia           0.000000\n",
      "155) State_Mizoram                  0.000000\n"
     ]
    }
   ],
   "source": [
    "from sklearn.ensemble import RandomForestClassifier\n",
    "\n",
    "from sklearn.feature_selection import SelectFromModel\n",
    "\n",
    "forest = RandomForestClassifier(n_estimators=250,random_state=1)\n",
    "\n",
    "feat_labels = X_train.columns\n",
    "\n",
    "forest.fit(X_train,y_train)\n",
    "\n",
    "importances = forest.feature_importances_\n",
    "\n",
    "indices = np.argsort(importances)[::-1]\n",
    "\n",
    "for f in range(encoded_X_features.shape[1]):\n",
    "    print(\"%2d) %-*s %f\" % (f+1,30,feat_labels[indices[f]],importances[indices[f]]))"
   ]
  },
  {
   "cell_type": "markdown",
   "metadata": {},
   "source": [
    "## Selecting users based on user specified threshold"
   ]
  },
  {
   "cell_type": "code",
   "execution_count": 70,
   "metadata": {},
   "outputs": [
    {
     "name": "stdout",
     "output_type": "stream",
     "text": [
      "Number of features that meet this threshold criterion:  30\n",
      " 1) HospitalNo2                    0.070510\n",
      " 2) AgeYrs                         0.061932\n",
      " 3) Estimatedcost                  0.052710\n",
      " 4) CE_VALUEFORMONEY               0.050036\n",
      " 5) CE_CSAT                        0.047106\n",
      " 6) LengthofStay                   0.043747\n",
      " 7) CE_ACCESSIBILITY               0.029103\n",
      " 8) AE_ATTENDEEFOOD                0.024194\n",
      " 9) DP_DISCHARGETIME               0.020493\n",
      "10) AD_TARRIFFPACKAGESEXPLAINATION 0.020460\n",
      "11) DP_DISCHARGEPROCESS            0.020150\n",
      "12) FNB_FOODQUALITY                0.019497\n",
      "13) AD_TIME                        0.018733\n",
      "14) FNB_FOODDELIVERYTIME           0.017545\n",
      "15) DP_DISCHARGEQUERIES            0.017298\n",
      "16) INR_ROOMPEACE                  0.016621\n",
      "17) FNB_DIETICIAN                  0.016379\n",
      "18) INR_ROOMCLEANLINESS            0.016163\n",
      "19) INR_ROOMAMBIENCE               0.015813\n",
      "20) Sex_M                          0.015635\n",
      "21) AE_PATIENTSTATUSINFO           0.014979\n",
      "22) DOC_VISITS                     0.014517\n",
      "23) BedCategory_GENERAL            0.014330\n",
      "24) INR_ROOMEQUIPMENT              0.013803\n",
      "25) AD_STAFFATTITUDE               0.013704\n",
      "26) Department_GEN                 0.013283\n",
      "27) AE_ATTENDEECARE                0.013237\n",
      "28) BedCategory_SEMISPECIAL        0.013137\n",
      "29) InsPayorcategory_PATIENT       0.012961\n",
      "30) FNB_STAFFATTITUDE              0.012826\n"
     ]
    },
    {
     "data": {
      "text/plain": [
       "['HospitalNo2',\n",
       " 'AgeYrs',\n",
       " 'Estimatedcost',\n",
       " 'CE_VALUEFORMONEY',\n",
       " 'CE_CSAT',\n",
       " 'LengthofStay',\n",
       " 'CE_ACCESSIBILITY',\n",
       " 'AE_ATTENDEEFOOD',\n",
       " 'DP_DISCHARGETIME',\n",
       " 'AD_TARRIFFPACKAGESEXPLAINATION',\n",
       " 'DP_DISCHARGEPROCESS',\n",
       " 'FNB_FOODQUALITY',\n",
       " 'AD_TIME',\n",
       " 'FNB_FOODDELIVERYTIME',\n",
       " 'DP_DISCHARGEQUERIES',\n",
       " 'INR_ROOMPEACE',\n",
       " 'FNB_DIETICIAN',\n",
       " 'INR_ROOMCLEANLINESS',\n",
       " 'INR_ROOMAMBIENCE',\n",
       " 'Sex_M',\n",
       " 'AE_PATIENTSTATUSINFO',\n",
       " 'DOC_VISITS',\n",
       " 'BedCategory_GENERAL',\n",
       " 'INR_ROOMEQUIPMENT',\n",
       " 'AD_STAFFATTITUDE',\n",
       " 'Department_GEN',\n",
       " 'AE_ATTENDEECARE',\n",
       " 'BedCategory_SEMISPECIAL',\n",
       " 'InsPayorcategory_PATIENT',\n",
       " 'FNB_STAFFATTITUDE']"
      ]
     },
     "execution_count": 70,
     "metadata": {},
     "output_type": "execute_result"
    }
   ],
   "source": [
    "from sklearn.feature_selection import SelectFromModel\n",
    "\n",
    "sfm = SelectFromModel(forest,threshold=0.012638, prefit=True)\n",
    "\n",
    "X_selected_features = sfm.transform(X_train)\n",
    "\n",
    "print('Number of features that meet this threshold criterion: ',X_selected_features.shape[1])\n",
    "X_selected_feature_columns = []\n",
    "for f in range(X_selected_features.shape[1]):\n",
    "    print(\"%2d) %-*s %f\" % (f+1,30,feat_labels[indices[f]],importances[indices[f]]))\n",
    "    X_selected_feature_columns.append(feat_labels[indices[f]])\n",
    "\n",
    "X_selected_feature_columns "
   ]
  },
  {
   "cell_type": "code",
   "execution_count": 71,
   "metadata": {},
   "outputs": [
    {
     "name": "stderr",
     "output_type": "stream",
     "text": [
      "/Applications/anaconda3/lib/python3.7/site-packages/sklearn/linear_model/logistic.py:432: FutureWarning: Default solver will be changed to 'lbfgs' in 0.22. Specify a solver to silence this warning.\n",
      "  FutureWarning)\n",
      "/Applications/anaconda3/lib/python3.7/site-packages/sklearn/linear_model/logistic.py:469: FutureWarning: Default multi_class will be changed to 'auto' in 0.22. Specify the multi_class option to silence this warning.\n",
      "  \"this warning.\", FutureWarning)\n",
      "/Applications/anaconda3/lib/python3.7/site-packages/scipy/optimize/linesearch.py:466: LineSearchWarning: The line search algorithm did not converge\n",
      "  warn('The line search algorithm did not converge', LineSearchWarning)\n",
      "/Applications/anaconda3/lib/python3.7/site-packages/scipy/optimize/linesearch.py:314: LineSearchWarning: The line search algorithm did not converge\n",
      "  warn('The line search algorithm did not converge', LineSearchWarning)\n"
     ]
    },
    {
     "name": "stdout",
     "output_type": "stream",
     "text": [
      "Multinomial Logistic regression Train Accuracy ::  0.6167600747264478\n",
      "Multinomial Logistic regression Test Accuracy ::  0.6425902864259029\n",
      "Multinomial Logistic regression Train Accuracy using multinomial ::  0.6728049105951428\n",
      "Multinomial Logistic regression Test Accuracy multinomial ::  0.686799501867995\n"
     ]
    },
    {
     "name": "stderr",
     "output_type": "stream",
     "text": [
      "/Applications/anaconda3/lib/python3.7/site-packages/sklearn/utils/optimize.py:203: ConvergenceWarning: newton-cg failed to converge. Increase the number of iterations.\n",
      "  \"number of iterations.\", ConvergenceWarning)\n"
     ]
    }
   ],
   "source": [
    "from sklearn.linear_model import LogisticRegression\n",
    "\n",
    "lr_multinomial = LogisticRegression(multi_class='multinomial',solver='newton-cg')\n",
    "\n",
    "lr = LogisticRegression()\n",
    "\n",
    "lr_model = lr.fit(X_train[X_selected_feature_columns],y_train)\n",
    "lr_multinomial_model = lr_multinomial.fit(X_train[X_selected_feature_columns],y_train)\n",
    "\n",
    "\n",
    "print(\"Multinomial Logistic regression Train Accuracy :: \", metrics.accuracy_score(y_train, lr_model.predict(X_train[X_selected_feature_columns])))\n",
    "print(\"Multinomial Logistic regression Test Accuracy :: \", metrics.accuracy_score(y_test, lr_model.predict(X_test[X_selected_feature_columns])))\n",
    "\n",
    "\n",
    "print(\"Multinomial Logistic regression Train Accuracy using multinomial :: \", metrics.accuracy_score(y_train, lr_multinomial_model.predict(X_train[X_selected_feature_columns])))\n",
    "print(\"Multinomial Logistic regression Test Accuracy multinomial :: \", metrics.accuracy_score(y_test, lr_multinomial_model.predict(X_test[X_selected_feature_columns])))\n",
    " "
   ]
  },
  {
   "cell_type": "code",
   "execution_count": 79,
   "metadata": {},
   "outputs": [
    {
     "name": "stdout",
     "output_type": "stream",
     "text": [
      "0.6728049105951428\n"
     ]
    },
    {
     "data": {
      "image/png": "[encoded data removed]",
      "text/plain": [
       "<Figure size 648x648 with 2 Axes>"
      ]
     },
     "metadata": {
      "needs_background": "light"
     },
     "output_type": "display_data"
    }
   ],
   "source": [
    "cm = metrics.confusion_matrix(y_train, lr_multinomial_model.predict(X_train[X_selected_feature_columns]))\n",
    "\n",
    "score = lr_multinomial_model.score(X_train[X_selected_feature_columns], y_train)\n",
    "print(score)\n",
    "plt.figure(figsize=(9,9))\n",
    "sns.heatmap(cm, annot=True, fmt=\".3f\", linewidths=.5, square = True, cmap = 'Blues_r');\n",
    "plt.ylabel('Actual label');\n",
    "plt.xlabel('Predicted label');\n",
    "plot_title = 'Accuracy Score: {0}'.format(score)\n",
    "plt.title(plot_title, size = 15);"
   ]
  },
  {
   "cell_type": "code",
   "execution_count": 77,
   "metadata": {},
   "outputs": [
    {
     "name": "stdout",
     "output_type": "stream",
     "text": [
      "0.686799501867995\n"
     ]
    },
    {
     "data": {
      "image/png": "[encoded data removed]",
      "text/plain": [
       "<Figure size 648x648 with 2 Axes>"
      ]
     },
     "metadata": {
      "needs_background": "light"
     },
     "output_type": "display_data"
    }
   ],
   "source": [
    "cm = metrics.confusion_matrix(y_test, lr_multinomial_model.predict(X_test[X_selected_feature_columns]))\n",
    "\n",
    "score = lr_multinomial_model.score(X_test[X_selected_feature_columns], y_test)\n",
    "print(score)\n",
    "plt.figure(figsize=(9,9))\n",
    "sns.heatmap(cm, annot=True, fmt=\".3f\", linewidths=.5, square = True, cmap = 'Blues_r');\n",
    "plt.ylabel('Actual label');\n",
    "plt.xlabel('Predicted label');\n",
    "plot_title = 'Accuracy Score: {0}'.format(score)\n",
    "plt.title(plot_title, size = 15);"
   ]
  }
 ],
 "metadata": {
  "kernelspec": {
   "display_name": "Python 3",
   "language": "python",
   "name": "python3"
  },
  "language_info": {
   "codemirror_mode": {
    "name": "ipython",
    "version": 3
   },
   "file_extension": ".py",
   "mimetype": "text/x-python",
   "name": "python",
   "nbconvert_exporter": "python",
   "pygments_lexer": "ipython3",
   "version": "3.7.3"
  }
 },
 "nbformat": 4,
 "nbformat_minor": 2
}
