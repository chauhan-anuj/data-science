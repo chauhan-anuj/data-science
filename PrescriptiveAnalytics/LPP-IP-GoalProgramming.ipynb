{
 "cells": [
  {
   "cell_type": "markdown",
   "metadata": {},
   "source": [
    "<center>\n",
    "<h1> Linear Programming, Integer Programming and Goal Programming\n",
    "</center>\n"
   ]
  },
  {
   "cell_type": "markdown",
   "metadata": {},
   "source": [
    "#### Import Python Package for Linear Programming (PuLP)"
   ]
  },
  {
   "cell_type": "code",
   "execution_count": 3,
   "metadata": {},
   "outputs": [],
   "source": [
    "import pulp"
   ]
  },
  {
   "cell_type": "markdown",
   "metadata": {},
   "source": [
    "### Define Linear Programming Problem (LPP)"
   ]
  },
  {
   "cell_type": "code",
   "execution_count": 12,
   "metadata": {},
   "outputs": [],
   "source": [
    "# Instantiate Linear Programming Problem class\n",
    "profit_Maximization_problem = pulp.LpProblem(\"Profit maximising problem\", pulp.LpMaximize)"
   ]
  },
  {
   "cell_type": "markdown",
   "metadata": {},
   "source": [
    "### Define Decision Variables with lower and upper bounds and variable types"
   ]
  },
  {
   "cell_type": "code",
   "execution_count": 4,
   "metadata": {},
   "outputs": [],
   "source": [
    "x1 = pulp.LpVariable('X1', lowBound=0, upBound=250, cat='Integer')\n",
    "x2 = pulp.LpVariable('X2', lowBound=0, upBound=120, cat='Integer')\n",
    "x3 = pulp.LpVariable('X3', lowBound=0, upBound=90, cat='Integer')\n",
    "x4 = pulp.LpVariable('X4', lowBound=0, upBound=550, cat='Integer')"
   ]
  },
  {
   "cell_type": "markdown",
   "metadata": {},
   "source": [
    "### Define Objective Function and Constraints"
   ]
  },
  {
   "cell_type": "code",
   "execution_count": 14,
   "metadata": {},
   "outputs": [],
   "source": [
    "# Objective function\n",
    "profit_Maximization_problem += 45*x1 + 50*x2 + 60*x3 + 10*x4, \"Z\"\n",
    "\n",
    "# Constraints\n",
    "profit_Maximization_problem += 0.3*x1 + 0.2*x2 + 0.4*x3 + 0.4*x4 <=500\n",
    "profit_Maximization_problem += 0.4*x1 + 0.5*x2 + 0.8*x3 + 0.8*x4 <=450\n",
    "profit_Maximization_problem += 0.4*x1 + 0.3*x2 + 0.1*x3 + 0.1*x4 <=75\n",
    "profit_Maximization_problem += 0.2*x1 + 0.3*x2 + 0.6*x3 + 0.5*x4 <=300\n",
    "profit_Maximization_problem += 0.5*x1 + 0.5*x2 + 0.4*x3 + 0.8*x4 <=200\n"
   ]
  },
  {
   "cell_type": "markdown",
   "metadata": {},
   "source": [
    "### View LP Problem"
   ]
  },
  {
   "cell_type": "code",
   "execution_count": 15,
   "metadata": {},
   "outputs": [
    {
     "data": {
      "text/plain": [
       "Profit maximising problem:\n",
       "MAXIMIZE\n",
       "45*X1 + 50*X2 + 60*X3 + 10*X4 + 0\n",
       "SUBJECT TO\n",
       "_C1: 0.3 X1 + 0.2 X2 + 0.4 X3 + 0.4 X4 <= 500\n",
       "\n",
       "_C2: 0.4 X1 + 0.5 X2 + 0.8 X3 + 0.8 X4 <= 450\n",
       "\n",
       "_C3: 0.4 X1 + 0.3 X2 + 0.1 X3 + 0.1 X4 <= 75\n",
       "\n",
       "_C4: 0.2 X1 + 0.3 X2 + 0.6 X3 + 0.5 X4 <= 300\n",
       "\n",
       "_C5: 0.5 X1 + 0.5 X2 + 0.4 X3 + 0.8 X4 <= 200\n",
       "\n",
       "VARIABLES\n",
       "0 <= X1 <= 250 Integer\n",
       "0 <= X2 <= 120 Integer\n",
       "0 <= X3 <= 90 Integer\n",
       "0 <= X4 <= 550 Integer"
      ]
     },
     "execution_count": 15,
     "metadata": {},
     "output_type": "execute_result"
    }
   ],
   "source": [
    "profit_Maximization_problem"
   ]
  },
  {
   "cell_type": "markdown",
   "metadata": {},
   "source": [
    "### Solve LP Problem"
   ]
  },
  {
   "cell_type": "code",
   "execution_count": 17,
   "metadata": {},
   "outputs": [
    {
     "data": {
      "text/plain": [
       "'Optimal'"
      ]
     },
     "execution_count": 17,
     "metadata": {},
     "output_type": "execute_result"
    }
   ],
   "source": [
    "profit_Maximization_problem.solve()\n",
    "pulp.LpStatus[profit_Maximization_problem.status]"
   ]
  },
  {
   "cell_type": "markdown",
   "metadata": {},
   "source": [
    "### Display optimal Decision Variable values "
   ]
  },
  {
   "cell_type": "code",
   "execution_count": 18,
   "metadata": {},
   "outputs": [
    {
     "name": "stdout",
     "output_type": "stream",
     "text": [
      "X1 = 75.0\n",
      "X2 = 120.0\n",
      "X3 = 90.0\n",
      "X4 = 0.0\n"
     ]
    }
   ],
   "source": [
    "for variable in profit_Maximization_problem.variables():\n",
    "    print(\"{} = {}\".format(variable.name, variable.varValue))"
   ]
  },
  {
   "cell_type": "code",
   "execution_count": 19,
   "metadata": {},
   "outputs": [
    {
     "name": "stdout",
     "output_type": "stream",
     "text": [
      "14775.0\n"
     ]
    }
   ],
   "source": [
    "print(pulp.value(profit_Maximization_problem.objective))"
   ]
  }
 ],
 "metadata": {
  "kernelspec": {
   "display_name": "Python 3",
   "language": "python",
   "name": "python3"
  },
  "language_info": {
   "codemirror_mode": {
    "name": "ipython",
    "version": 3
   },
   "file_extension": ".py",
   "mimetype": "text/x-python",
   "name": "python",
   "nbconvert_exporter": "python",
   "pygments_lexer": "ipython3",
   "version": "3.7.3"
  }
 },
 "nbformat": 4,
 "nbformat_minor": 2
}
